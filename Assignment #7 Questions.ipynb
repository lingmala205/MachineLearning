{
 "cells": [
  {
   "cell_type": "code",
   "execution_count": 2,
   "metadata": {},
   "outputs": [
    {
     "name": "stdout",
     "output_type": "stream",
     "text": [
      "Evaluating RMSE, MAE of algorithm SVD on 3 split(s).\n",
      "\n",
      "                  Fold 1  Fold 2  Fold 3  Mean    Std     \n",
      "RMSE (testset)    0.9418  0.9451  0.9477  0.9448  0.0024  \n",
      "MAE (testset)     0.7431  0.7452  0.7487  0.7457  0.0023  \n",
      "Fit time          3.90    3.89    3.91    3.90    0.01    \n",
      "Test time         0.25    0.24    0.25    0.24    0.00    \n"
     ]
    },
    {
     "data": {
      "text/plain": [
       "{'test_rmse': array([0.94179196, 0.94508052, 0.94766266]),\n",
       " 'test_mae': array([0.74307584, 0.74520744, 0.74872932]),\n",
       " 'fit_time': (3.8966166973114014, 3.8908934593200684, 3.9052274227142334),\n",
       " 'test_time': (0.24587392807006836, 0.24008917808532715, 0.24757099151611328)}"
      ]
     },
     "execution_count": 2,
     "metadata": {},
     "output_type": "execute_result"
    }
   ],
   "source": [
    "#Questions 1 to 5\n",
    "\n",
    "from surprise import SVD\n",
    "from surprise import Dataset\n",
    "from surprise.model_selection import cross_validate\n",
    "from surprise import Reader\n",
    "\n",
    "\n",
    "\n",
    "reader = Reader(line_format='user item rating timestamp', sep='\\t')\n",
    "data = Dataset.load_from_file('restaurant_ratings.txt', reader=reader)\n",
    "\n",
    "\n",
    "algo = SVD()\n",
    "\n",
    "cross_validate(algo, data, measures=['RMSE', 'MAE'], cv=3, verbose=True)\n"
   ]
  },
  {
   "cell_type": "code",
   "execution_count": 3,
   "metadata": {},
   "outputs": [
    {
     "name": "stdout",
     "output_type": "stream",
     "text": [
      "Evaluating RMSE, MAE of algorithm SVD on 3 split(s).\n",
      "\n",
      "                  Fold 1  Fold 2  Fold 3  Mean    Std     \n",
      "RMSE (testset)    0.9686  0.9692  0.9615  0.9664  0.0035  \n",
      "MAE (testset)     0.7638  0.7649  0.7574  0.7620  0.0033  \n",
      "Fit time          3.95    3.91    3.92    3.93    0.02    \n",
      "Test time         0.22    0.22    0.25    0.23    0.01    \n"
     ]
    },
    {
     "data": {
      "text/plain": [
       "{'test_rmse': array([0.96855623, 0.96921428, 0.96151167]),\n",
       " 'test_mae': array([0.76380457, 0.764921  , 0.75737894]),\n",
       " 'fit_time': (3.9521965980529785, 3.908574104309082, 3.923511028289795),\n",
       " 'test_time': (0.22100305557250977, 0.2156975269317627, 0.24773693084716797)}"
      ]
     },
     "execution_count": 3,
     "metadata": {},
     "output_type": "execute_result"
    }
   ],
   "source": [
    "#Question 6\n",
    "\n",
    "from surprise import SVD\n",
    "from surprise import Dataset\n",
    "from surprise.model_selection import cross_validate\n",
    "from surprise import Reader\n",
    "\n",
    "\n",
    "\n",
    "reader = Reader(line_format='user item rating timestamp', sep='\\t')\n",
    "data = Dataset.load_from_file('restaurant_ratings.txt', reader=reader)\n",
    "\n",
    "\n",
    "algo = SVD(biased=False)\n",
    "\n",
    "cross_validate(algo, data, measures=['RMSE', 'MAE'], cv=3, verbose=True)\n"
   ]
  },
  {
   "cell_type": "code",
   "execution_count": 4,
   "metadata": {},
   "outputs": [
    {
     "name": "stdout",
     "output_type": "stream",
     "text": [
      "Evaluating RMSE, MAE of algorithm NMF on 3 split(s).\n",
      "\n",
      "                  Fold 1  Fold 2  Fold 3  Mean    Std     \n",
      "RMSE (testset)    0.9741  0.9816  0.9721  0.9759  0.0041  \n",
      "MAE (testset)     0.7661  0.7716  0.7640  0.7672  0.0032  \n",
      "Fit time          4.41    4.45    4.46    4.44    0.02    \n",
      "Test time         0.32    0.23    0.21    0.25    0.05    \n"
     ]
    },
    {
     "data": {
      "text/plain": [
       "{'test_rmse': array([0.97408254, 0.98156217, 0.97212601]),\n",
       " 'test_mae': array([0.7661025 , 0.7716161 , 0.76398919]),\n",
       " 'fit_time': (4.409077167510986, 4.45440936088562, 4.462515592575073),\n",
       " 'test_time': (0.3242788314819336, 0.2250354290008545, 0.21172809600830078)}"
      ]
     },
     "execution_count": 4,
     "metadata": {},
     "output_type": "execute_result"
    }
   ],
   "source": [
    "#Question 7\n",
    "\n",
    "from surprise import NMF\n",
    "from surprise import Dataset\n",
    "from surprise.model_selection import cross_validate\n",
    "from surprise import Reader\n",
    "\n",
    "\n",
    "\n",
    "reader = Reader(line_format='user item rating timestamp', sep='\\t')\n",
    "data = Dataset.load_from_file('restaurant_ratings.txt', reader=reader)\n",
    "\n",
    "\n",
    "algo = NMF()\n",
    "\n",
    "cross_validate(algo, data, measures=['RMSE', 'MAE'], cv=3, verbose=True)\n"
   ]
  },
  {
   "cell_type": "code",
   "execution_count": 6,
   "metadata": {
    "scrolled": true
   },
   "outputs": [
    {
     "name": "stdout",
     "output_type": "stream",
     "text": [
      "Computing the msd similarity matrix...\n",
      "Done computing similarity matrix.\n",
      "Computing the msd similarity matrix...\n",
      "Done computing similarity matrix.\n",
      "Computing the msd similarity matrix...\n",
      "Done computing similarity matrix.\n",
      "Evaluating RMSE, MAE of algorithm KNNBasic on 3 split(s).\n",
      "\n",
      "                  Fold 1  Fold 2  Fold 3  Mean    Std     \n",
      "RMSE (testset)    0.9909  0.9813  0.9948  0.9890  0.0057  \n",
      "MAE (testset)     0.7846  0.7751  0.7856  0.7818  0.0048  \n",
      "Fit time          0.38    0.41    0.40    0.40    0.01    \n",
      "Test time         5.04    4.98    5.21    5.07    0.10    \n"
     ]
    },
    {
     "data": {
      "text/plain": [
       "{'test_rmse': array([0.99093949, 0.98125531, 0.99476795]),\n",
       " 'test_mae': array([0.78462293, 0.77505436, 0.78564756]),\n",
       " 'fit_time': (0.38082075119018555, 0.4102668762207031, 0.4000272750854492),\n",
       " 'test_time': (5.0386974811553955, 4.976756811141968, 5.20913553237915)}"
      ]
     },
     "execution_count": 6,
     "metadata": {},
     "output_type": "execute_result"
    }
   ],
   "source": [
    "#Question 8\n",
    "\n",
    "#USER-BASED COLLABORATIVE FILTER\n",
    "from surprise import KNNBasic\n",
    "from surprise import Dataset\n",
    "from surprise.model_selection import cross_validate\n",
    "from surprise import Reader\n",
    "\n",
    "\n",
    "\n",
    "reader = Reader(line_format='user item rating timestamp', sep='\\t')\n",
    "data = Dataset.load_from_file('restaurant_ratings.txt', reader=reader)\n",
    "\n",
    "\n",
    "algo = KNNBasic(sim_options = {'user_based': True})\n",
    "\n",
    "cross_validate(algo, data, measures=['RMSE', 'MAE'], cv=3, verbose=True)\n"
   ]
  },
  {
   "cell_type": "code",
   "execution_count": 7,
   "metadata": {},
   "outputs": [
    {
     "name": "stdout",
     "output_type": "stream",
     "text": [
      "Computing the msd similarity matrix...\n",
      "Done computing similarity matrix.\n",
      "Computing the msd similarity matrix...\n",
      "Done computing similarity matrix.\n",
      "Computing the msd similarity matrix...\n",
      "Done computing similarity matrix.\n",
      "Evaluating RMSE, MAE of algorithm KNNBasic on 3 split(s).\n",
      "\n",
      "                  Fold 1  Fold 2  Fold 3  Mean    Std     \n",
      "RMSE (testset)    0.9871  0.9856  0.9835  0.9854  0.0015  \n",
      "MAE (testset)     0.7824  0.7801  0.7784  0.7803  0.0016  \n",
      "Fit time          0.57    0.59    0.56    0.57    0.01    \n",
      "Test time         5.80    6.07    5.52    5.80    0.22    \n"
     ]
    },
    {
     "data": {
      "text/plain": [
       "{'test_rmse': array([0.98712844, 0.98562652, 0.98352732]),\n",
       " 'test_mae': array([0.78238532, 0.78010777, 0.77838717]),\n",
       " 'fit_time': (0.5692989826202393, 0.591181755065918, 0.5612795352935791),\n",
       " 'test_time': (5.802861452102661, 6.070903539657593, 5.523528337478638)}"
      ]
     },
     "execution_count": 7,
     "metadata": {},
     "output_type": "execute_result"
    }
   ],
   "source": [
    "#Question 9\n",
    "\n",
    "#ITEM-BASED COLLABORATIVE FILTER\n",
    "from surprise import KNNBasic\n",
    "from surprise import Dataset\n",
    "from surprise.model_selection import cross_validate\n",
    "from surprise import Reader\n",
    "\n",
    "\n",
    "\n",
    "reader = Reader(line_format='user item rating timestamp', sep='\\t')\n",
    "data = Dataset.load_from_file('restaurant_ratings.txt', reader=reader)\n",
    "\n",
    "\n",
    "algo = KNNBasic(sim_options = {'user_based': False})\n",
    "\n",
    "cross_validate(algo, data, measures=['RMSE', 'MAE'], cv=3, verbose=True)\n"
   ]
  },
  {
   "cell_type": "code",
   "execution_count": 12,
   "metadata": {},
   "outputs": [
    {
     "name": "stdout",
     "output_type": "stream",
     "text": [
      "Computing the msd similarity matrix...\n",
      "Done computing similarity matrix.\n",
      "Computing the msd similarity matrix...\n",
      "Done computing similarity matrix.\n",
      "Computing the msd similarity matrix...\n",
      "Done computing similarity matrix.\n",
      "Evaluating RMSE, MAE of algorithm KNNBasic on 3 split(s).\n",
      "\n",
      "                  Fold 1  Fold 2  Fold 3  Mean    Std     \n",
      "RMSE (testset)    0.9903  0.9834  0.9824  0.9854  0.0035  \n",
      "MAE (testset)     0.7813  0.7805  0.7800  0.7806  0.0005  \n",
      "Fit time          0.53    0.50    0.61    0.55    0.04    \n",
      "Test time         5.00    5.83    5.53    5.45    0.34    \n"
     ]
    },
    {
     "data": {
      "text/plain": [
       "{'test_rmse': array([0.99030873, 0.98339022, 0.98236677]),\n",
       " 'test_mae': array([0.78128841, 0.78049342, 0.77999918]),\n",
       " 'fit_time': (0.5312402248382568, 0.5000083446502686, 0.6064009666442871),\n",
       " 'test_time': (5.00141978263855, 5.829915523529053, 5.528046369552612)}"
      ]
     },
     "execution_count": 12,
     "metadata": {},
     "output_type": "execute_result"
    }
   ],
   "source": [
    "#Question 14 MSD\n",
    "\n",
    "#USER-BASED COLLABORATIVE FILTER\n",
    "from surprise import KNNBasic\n",
    "from surprise import Dataset\n",
    "from surprise.model_selection import cross_validate\n",
    "from surprise import Reader\n",
    "\n",
    "\n",
    "\n",
    "reader = Reader(line_format='user item rating timestamp', sep='\\t')\n",
    "data = Dataset.load_from_file('restaurant_ratings.txt', reader=reader)\n",
    "\n",
    "\n",
    "algo = KNNBasic(sim_options = {\n",
    " 'name':'MSD',\n",
    " 'user_based': True\n",
    "})\n",
    "\n",
    "cross_validate(algo, data, measures=['RMSE', 'MAE'], cv=3, verbose=True)\n"
   ]
  },
  {
   "cell_type": "code",
   "execution_count": 13,
   "metadata": {},
   "outputs": [
    {
     "name": "stdout",
     "output_type": "stream",
     "text": [
      "Computing the cosine similarity matrix...\n",
      "Done computing similarity matrix.\n",
      "Computing the cosine similarity matrix...\n",
      "Done computing similarity matrix.\n",
      "Computing the cosine similarity matrix...\n",
      "Done computing similarity matrix.\n",
      "Evaluating RMSE, MAE of algorithm KNNBasic on 3 split(s).\n",
      "\n",
      "                  Fold 1  Fold 2  Fold 3  Mean    Std     \n",
      "RMSE (testset)    1.0211  1.0158  1.0270  1.0213  0.0046  \n",
      "MAE (testset)     0.8090  0.8047  0.8131  0.8089  0.0034  \n",
      "Fit time          1.25    1.25    1.24    1.25    0.01    \n",
      "Test time         4.32    4.29    4.37    4.33    0.03    \n"
     ]
    },
    {
     "data": {
      "text/plain": [
       "{'test_rmse': array([1.02109213, 1.01583007, 1.02702782]),\n",
       " 'test_mae': array([0.80904627, 0.80470755, 0.81309215]),\n",
       " 'fit_time': (1.2531540393829346, 1.2549669742584229, 1.2414519786834717),\n",
       " 'test_time': (4.321452617645264, 4.292198657989502, 4.37496542930603)}"
      ]
     },
     "execution_count": 13,
     "metadata": {},
     "output_type": "execute_result"
    }
   ],
   "source": [
    "#Question 14 Cosine\n",
    "\n",
    "#USER-BASED COLLABORATIVE FILTER\n",
    "from surprise import KNNBasic\n",
    "from surprise import Dataset\n",
    "from surprise.model_selection import cross_validate\n",
    "from surprise import Reader\n",
    "\n",
    "\n",
    "\n",
    "reader = Reader(line_format='user item rating timestamp', sep='\\t')\n",
    "data = Dataset.load_from_file('restaurant_ratings.txt', reader=reader)\n",
    "\n",
    "\n",
    "algo = KNNBasic(sim_options = {\n",
    " 'name':'cosine',\n",
    " 'user_based': True\n",
    "})\n",
    "\n",
    "cross_validate(algo, data, measures=['RMSE', 'MAE'], cv=3, verbose=True)\n"
   ]
  },
  {
   "cell_type": "code",
   "execution_count": 14,
   "metadata": {},
   "outputs": [
    {
     "name": "stdout",
     "output_type": "stream",
     "text": [
      "Computing the pearson similarity matrix...\n",
      "Done computing similarity matrix.\n",
      "Computing the pearson similarity matrix...\n",
      "Done computing similarity matrix.\n",
      "Computing the pearson similarity matrix...\n",
      "Done computing similarity matrix.\n",
      "Evaluating RMSE, MAE of algorithm KNNBasic on 3 split(s).\n",
      "\n",
      "                  Fold 1  Fold 2  Fold 3  Mean    Std     \n",
      "RMSE (testset)    1.0238  1.0217  1.0185  1.0213  0.0022  \n",
      "MAE (testset)     0.8126  0.8092  0.8086  0.8101  0.0018  \n",
      "Fit time          1.59    1.58    1.58    1.59    0.01    \n",
      "Test time         4.38    4.84    4.43    4.55    0.21    \n"
     ]
    },
    {
     "data": {
      "text/plain": [
       "{'test_rmse': array([1.02377825, 1.02170689, 1.01845801]),\n",
       " 'test_mae': array([0.81259781, 0.80917065, 0.8085678 ]),\n",
       " 'fit_time': (1.5932490825653076, 1.5839345455169678, 1.5811576843261719),\n",
       " 'test_time': (4.380984306335449, 4.8435986042022705, 4.426299571990967)}"
      ]
     },
     "execution_count": 14,
     "metadata": {},
     "output_type": "execute_result"
    }
   ],
   "source": [
    "#Question 14 Pearson\n",
    "\n",
    "\n",
    "#USER-BASED COLLABORATIVE FILTER\n",
    "from surprise import KNNBasic\n",
    "from surprise import Dataset\n",
    "from surprise.model_selection import cross_validate\n",
    "from surprise import Reader\n",
    "\n",
    "\n",
    "\n",
    "reader = Reader(line_format='user item rating timestamp', sep='\\t')\n",
    "data = Dataset.load_from_file('restaurant_ratings.txt', reader=reader)\n",
    "\n",
    "\n",
    "algo = KNNBasic(sim_options = {\n",
    " 'name':'pearson',\n",
    " 'user_based': True\n",
    "})\n",
    "\n",
    "cross_validate(algo, data, measures=['RMSE', 'MAE'], cv=3, verbose=True)\n"
   ]
  },
  {
   "cell_type": "code",
   "execution_count": 15,
   "metadata": {},
   "outputs": [
    {
     "name": "stdout",
     "output_type": "stream",
     "text": [
      "Computing the msd similarity matrix...\n",
      "Done computing similarity matrix.\n",
      "Computing the msd similarity matrix...\n",
      "Done computing similarity matrix.\n",
      "Computing the msd similarity matrix...\n",
      "Done computing similarity matrix.\n",
      "Evaluating RMSE, MAE of algorithm KNNBasic on 3 split(s).\n",
      "\n",
      "                  Fold 1  Fold 2  Fold 3  Mean    Std     \n",
      "RMSE (testset)    0.9842  0.9861  0.9831  0.9845  0.0012  \n",
      "MAE (testset)     0.7798  0.7809  0.7790  0.7799  0.0008  \n",
      "Fit time          0.52    0.54    0.54    0.53    0.01    \n",
      "Test time         5.27    5.50    5.25    5.34    0.11    \n"
     ]
    },
    {
     "data": {
      "text/plain": [
       "{'test_rmse': array([0.98422697, 0.98605243, 0.98313311]),\n",
       " 'test_mae': array([0.77983148, 0.7809445 , 0.77899804]),\n",
       " 'fit_time': (0.5248966217041016, 0.5373573303222656, 0.5356044769287109),\n",
       " 'test_time': (5.269607067108154, 5.496702432632446, 5.246564626693726)}"
      ]
     },
     "execution_count": 15,
     "metadata": {},
     "output_type": "execute_result"
    }
   ],
   "source": [
    "#Question 14 MSD\n",
    "\n",
    "#ITEM-BASED COLLABORATIVE FILTER\n",
    "from surprise import KNNBasic\n",
    "from surprise import Dataset\n",
    "from surprise.model_selection import cross_validate\n",
    "from surprise import Reader\n",
    "\n",
    "\n",
    "\n",
    "reader = Reader(line_format='user item rating timestamp', sep='\\t')\n",
    "data = Dataset.load_from_file('restaurant_ratings.txt', reader=reader)\n",
    "\n",
    "\n",
    "algo = KNNBasic(sim_options = {\n",
    " 'name':'MSD',\n",
    " 'user_based': False\n",
    "})\n",
    "\n",
    "cross_validate(algo, data, measures=['RMSE', 'MAE'], cv=3, verbose=True)\n"
   ]
  },
  {
   "cell_type": "code",
   "execution_count": 16,
   "metadata": {},
   "outputs": [
    {
     "name": "stdout",
     "output_type": "stream",
     "text": [
      "Computing the cosine similarity matrix...\n",
      "Done computing similarity matrix.\n",
      "Computing the cosine similarity matrix...\n",
      "Done computing similarity matrix.\n",
      "Computing the cosine similarity matrix...\n",
      "Done computing similarity matrix.\n",
      "Evaluating RMSE, MAE of algorithm KNNBasic on 3 split(s).\n",
      "\n",
      "                  Fold 1  Fold 2  Fold 3  Mean    Std     \n",
      "RMSE (testset)    1.0359  1.0376  1.0340  1.0358  0.0014  \n",
      "MAE (testset)     0.8224  0.8229  0.8200  0.8218  0.0013  \n",
      "Fit time          1.80    1.82    1.85    1.82    0.02    \n",
      "Test time         4.84    5.03    4.86    4.91    0.09    \n"
     ]
    },
    {
     "data": {
      "text/plain": [
       "{'test_rmse': array([1.03588294, 1.03758972, 1.03404008]),\n",
       " 'test_mae': array([0.82239819, 0.82293146, 0.82001464]),\n",
       " 'fit_time': (1.7966513633728027, 1.8171191215515137, 1.8510642051696777),\n",
       " 'test_time': (4.835939407348633, 5.034269571304321, 4.8619139194488525)}"
      ]
     },
     "execution_count": 16,
     "metadata": {},
     "output_type": "execute_result"
    }
   ],
   "source": [
    "#Question 14 Cosine\n",
    "\n",
    "#ITEM-BASED COLLABORATIVE FILTER\n",
    "from surprise import KNNBasic\n",
    "from surprise import Dataset\n",
    "from surprise.model_selection import cross_validate\n",
    "from surprise import Reader\n",
    "\n",
    "\n",
    "\n",
    "reader = Reader(line_format='user item rating timestamp', sep='\\t')\n",
    "data = Dataset.load_from_file('restaurant_ratings.txt', reader=reader)\n",
    "\n",
    "\n",
    "algo = KNNBasic(sim_options = {\n",
    " 'name':'cosine',\n",
    " 'user_based': False\n",
    "})\n",
    "\n",
    "cross_validate(algo, data, measures=['RMSE', 'MAE'], cv=3, verbose=True)\n"
   ]
  },
  {
   "cell_type": "code",
   "execution_count": 17,
   "metadata": {},
   "outputs": [
    {
     "name": "stdout",
     "output_type": "stream",
     "text": [
      "Computing the pearson similarity matrix...\n",
      "Done computing similarity matrix.\n",
      "Computing the pearson similarity matrix...\n",
      "Done computing similarity matrix.\n",
      "Computing the pearson similarity matrix...\n",
      "Done computing similarity matrix.\n",
      "Evaluating RMSE, MAE of algorithm KNNBasic on 3 split(s).\n",
      "\n",
      "                  Fold 1  Fold 2  Fold 3  Mean    Std     \n",
      "RMSE (testset)    1.0489  1.0465  1.0476  1.0477  0.0010  \n",
      "MAE (testset)     0.8409  0.8364  0.8382  0.8385  0.0018  \n",
      "Fit time          2.37    2.48    3.03    2.63    0.29    \n",
      "Test time         5.23    5.70    5.70    5.55    0.22    \n"
     ]
    },
    {
     "data": {
      "text/plain": [
       "{'test_rmse': array([1.04894699, 1.04653996, 1.04762601]),\n",
       " 'test_mae': array([0.84086068, 0.83636082, 0.8382485 ]),\n",
       " 'fit_time': (2.369351387023926, 2.4776699542999268, 3.0342752933502197),\n",
       " 'test_time': (5.233414649963379, 5.702742099761963, 5.704707145690918)}"
      ]
     },
     "execution_count": 17,
     "metadata": {},
     "output_type": "execute_result"
    }
   ],
   "source": [
    "#Question 14 Pearson\n",
    "\n",
    "#ITEM-BASED COLLABORATIVE FILTER\n",
    "from surprise import KNNBasic\n",
    "from surprise import Dataset\n",
    "from surprise.model_selection import cross_validate\n",
    "from surprise import Reader\n",
    "\n",
    "\n",
    "\n",
    "reader = Reader(line_format='user item rating timestamp', sep='\\t')\n",
    "data = Dataset.load_from_file('restaurant_ratings.txt', reader=reader)\n",
    "\n",
    "\n",
    "algo = KNNBasic(sim_options = {\n",
    " 'name':'pearson',\n",
    " 'user_based': False\n",
    "})\n",
    "\n",
    "cross_validate(algo, data, measures=['RMSE', 'MAE'], cv=3, verbose=True)\n"
   ]
  },
  {
   "cell_type": "code",
   "execution_count": 23,
   "metadata": {},
   "outputs": [
    {
     "name": "stdout",
     "output_type": "stream",
     "text": [
      "Computing the msd similarity matrix...\n",
      "Done computing similarity matrix.\n",
      "Computing the msd similarity matrix...\n",
      "Done computing similarity matrix.\n",
      "Computing the msd similarity matrix...\n",
      "Done computing similarity matrix.\n",
      "Evaluating RMSE, MAE of algorithm KNNBasic on 3 split(s).\n",
      "\n",
      "                  Fold 1  Fold 2  Fold 3  Mean    Std     \n",
      "RMSE (testset)    0.9828  0.9901  0.9851  0.9860  0.0030  \n",
      "MAE (testset)     0.7774  0.7805  0.7773  0.7784  0.0015  \n",
      "Fit time          0.34    0.36    0.34    0.35    0.01    \n",
      "Test time         3.44    3.46    3.54    3.48    0.04    \n"
     ]
    },
    {
     "data": {
      "text/plain": [
       "{'test_rmse': array([0.98282978, 0.9900945 , 0.98510855]),\n",
       " 'test_mae': array([0.77741305, 0.78051614, 0.77731316]),\n",
       " 'fit_time': (0.33608055114746094, 0.3593759536743164, 0.34375619888305664),\n",
       " 'test_time': (3.444528341293335, 3.458199977874756, 3.54133677482605)}"
      ]
     },
     "execution_count": 23,
     "metadata": {},
     "output_type": "execute_result"
    }
   ],
   "source": [
    "#Question 15 Part 1\n",
    "\n",
    "\n",
    "#USER-BASED COLLABORATIVE FILTER\n",
    "from surprise import KNNBasic\n",
    "from surprise import Dataset\n",
    "from surprise.model_selection import cross_validate\n",
    "from surprise import Reader\n",
    "\n",
    "\n",
    "\n",
    "reader = Reader(line_format='user item rating timestamp', sep='\\t')\n",
    "data = Dataset.load_from_file('restaurant_ratings.txt', reader=reader)\n",
    "\n",
    "\n",
    "algo = KNNBasic(k=20,sim_options = {'name':'MSD','user_based': True})\n",
    "\n",
    "cross_validate(algo, data, measures=['RMSE', 'MAE'], cv=3, verbose=True)\n",
    "\n"
   ]
  },
  {
   "cell_type": "code",
   "execution_count": 43,
   "metadata": {},
   "outputs": [
    {
     "name": "stdout",
     "output_type": "stream",
     "text": [
      "Computing the msd similarity matrix...\n",
      "Done computing similarity matrix.\n",
      "Computing the msd similarity matrix...\n",
      "Done computing similarity matrix.\n",
      "Computing the msd similarity matrix...\n",
      "Done computing similarity matrix.\n",
      "Evaluating RMSE, MAE of algorithm KNNBasic on 3 split(s).\n",
      "\n",
      "                  Fold 1  Fold 2  Fold 3  Mean    Std     \n",
      "RMSE (testset)    0.9973  0.9975  0.9888  0.9946  0.0041  \n",
      "MAE (testset)     0.7935  0.7891  0.7819  0.7882  0.0048  \n",
      "Fit time          0.51    0.52    0.52    0.51    0.00    \n",
      "Test time         4.13    3.98    4.19    4.10    0.09    \n"
     ]
    },
    {
     "data": {
      "text/plain": [
       "{'test_rmse': array([0.9973042 , 0.99754101, 0.98882065]),\n",
       " 'test_mae': array([0.7934645 , 0.78913109, 0.78185839]),\n",
       " 'fit_time': (0.5132880210876465, 0.5157890319824219, 0.515613317489624),\n",
       " 'test_time': (4.133459568023682, 3.9804015159606934, 4.193897485733032)}"
      ]
     },
     "execution_count": 43,
     "metadata": {},
     "output_type": "execute_result"
    }
   ],
   "source": [
    "## Question 15 Part 2\n",
    "\n",
    "\n",
    "#ITEM-BASED COLLABORATIVE FILTER\n",
    "from surprise import KNNBasic\n",
    "from surprise import Dataset\n",
    "from surprise.model_selection import cross_validate\n",
    "from surprise import Reader\n",
    "\n",
    "\n",
    "\n",
    "reader = Reader(line_format='user item rating timestamp', sep='\\t')\n",
    "data = Dataset.load_from_file('restaurant_ratings.txt', reader=reader)\n",
    "\n",
    "\n",
    "algo = KNNBasic(k=20,sim_options = {'name':'MSD','user_based': False})\n",
    "\n",
    "cross_validate(algo, data, measures=['RMSE', 'MAE'], cv=3, verbose=True)\n",
    "\n"
   ]
  },
  {
   "cell_type": "code",
   "execution_count": null,
   "metadata": {},
   "outputs": [],
   "source": []
  }
 ],
 "metadata": {
  "kernelspec": {
   "display_name": "Python 3",
   "language": "python",
   "name": "python3"
  },
  "language_info": {
   "codemirror_mode": {
    "name": "ipython",
    "version": 3
   },
   "file_extension": ".py",
   "mimetype": "text/x-python",
   "name": "python",
   "nbconvert_exporter": "python",
   "pygments_lexer": "ipython3",
   "version": "3.7.3"
  }
 },
 "nbformat": 4,
 "nbformat_minor": 2
}
