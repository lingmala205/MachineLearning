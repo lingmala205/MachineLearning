{
 "cells": [
  {
   "cell_type": "code",
   "execution_count": 1,
   "metadata": {},
   "outputs": [
    {
     "name": "stdout",
     "output_type": "stream",
     "text": [
      "['Lose']\n",
      "['Win']\n",
      "['Win']\n",
      "['Lose']\n",
      "['Win']\n",
      "['Lose']\n"
     ]
    },
    {
     "data": {
      "text/plain": [
       "[Text(248.0, 277.2, 'X[3] <= 0.5\\nentropy = 0.278\\nsamples = 6\\nvalue = [1, 5]'),\n",
       " Text(124.0, 92.39999999999998, 'entropy = 0.0\\nsamples = 1\\nvalue = [1, 0]'),\n",
       " Text(372.0, 92.39999999999998, 'entropy = 0.0\\nsamples = 5\\nvalue = [0, 5]')]"
      ]
     },
     "execution_count": 1,
     "metadata": {},
     "output_type": "execute_result"
    }
   ],
   "source": [
    "from sklearn import tree                                                        \n",
    "\n",
    "\n",
    "decide = tree.DecisionTreeClassifier()\n",
    "\n",
    "#Dates start at 7, increase by 7 each time.\n",
    "#Each University has its own number, starting with 1 and increasing by 1 each time\n",
    "#Home = 0, Away = 1\n",
    "#In = 0, Out = 1\n",
    "#\"1-NBC\" = 1, \"4-ABC\" = 2, \"2-ESPN\" = 3, \"3-FOX\" = 4\n",
    "\n",
    "\n",
    "#[date, university, where, top25, media]\n",
    "X = [ [7, 1,0,1,1],                       #Temple                                                   \n",
    "      [14,2,0,0,1],                       #Georgia                                                   \n",
    "      [21,3,1,1,3],                       #Boston College                                                   \n",
    "      [28,4,1,1,4],                       #Michigan State    \n",
    "      [35,5,0,1,1],                       #Miami Ohio\n",
    "      [42,6,1,1,2]]                       #North Carolina                                                   \n",
    "\n",
    "#Label: Win/Lose\n",
    "Y = ['Win', 'Lose', 'Win', 'Win', 'Win', 'Win']\n",
    "\n",
    "decide = decide.fit(X, Y)\n",
    "result1 = decide.predict([[49,7,0,0,1]])   #USC\n",
    "result2 = decide.predict([[56,8,0,1,1]])   #North Carolina State\n",
    "result3 = decide.predict([[63, 9,0,1,1]])  #Wake Forest\n",
    "result4 = decide.predict([[70,10,1,0,2]])  #Miami Florida\n",
    "result5 = decide.predict([[77,11,0,1,1]])  #Navy\n",
    "result6 = decide.predict([[84,12,1,0,2]])  #Stanford\n",
    "\n",
    "\n",
    "print(result1)\n",
    "print(result2)\n",
    "print(result3)\n",
    "print(result4)\n",
    "print(result5)\n",
    "print(result6)\n",
    "\n",
    "#Decision tree information\n",
    "tree.plot_tree(decide)\n"
   ]
  },
  {
   "cell_type": "code",
   "execution_count": null,
   "metadata": {},
   "outputs": [],
   "source": []
  },
  {
   "cell_type": "code",
   "execution_count": null,
   "metadata": {},
   "outputs": [],
   "source": []
  }
 ],
 "metadata": {
  "kernelspec": {
   "display_name": "Python 3",
   "language": "python",
   "name": "python3"
  },
  "language_info": {
   "codemirror_mode": {
    "name": "ipython",
    "version": 3
   },
   "file_extension": ".py",
   "mimetype": "text/x-python",
   "name": "python",
   "nbconvert_exporter": "python",
   "pygments_lexer": "ipython3",
   "version": "3.7.3"
  }
 },
 "nbformat": 4,
 "nbformat_minor": 2
}
