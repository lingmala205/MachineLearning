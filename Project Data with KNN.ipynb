{
 "cells": [
  {
   "cell_type": "code",
   "execution_count": 2,
   "metadata": {},
   "outputs": [
    {
     "name": "stderr",
     "output_type": "stream",
     "text": [
      "C:\\murach\\SpyderPython\\lib\\site-packages\\IPython\\core\\interactiveshell.py:3057: DtypeWarning: Columns (0,1,2,3,4,5,6,7,8,9,10,11,12,13,14,15,16,17,18,19,20,21,22,23,24,25,26,27,28,29,30,31,32,33,34,35,36,37,38,39,40,41,42,43,44,45,46,47,48,49,50,51,52,53,54,55,56,57,58,59,60,61,62,63,64,65,66,67,68,69,70,71,72,73,74,75,76,77,78,79,80,81,82,83,84,85,86,87,88,89,90,91,92,93) have mixed types. Specify dtype option on import or set low_memory=False.\n",
      "  interactivity=interactivity, compiler=compiler, result=result)\n"
     ]
    },
    {
     "name": "stdout",
     "output_type": "stream",
     "text": [
      "[['feat_1' 'feat_2' 'feat_3' ... 'feat_91' 'feat_92' 'feat_93']\n",
      " ['1' '0' '0' ... '0' '0' '0']\n",
      " ['0' '0' '0' ... '0' '0' '0']\n",
      " ...\n",
      " [0 0 0 ... 0 0 0]\n",
      " [1 0 0 ... 3 10 0]\n",
      " [0 0 0 ... 0 2 0]]\n",
      "['feat_5' '0' '0' ... 0 0 0]\n"
     ]
    }
   ],
   "source": [
    "import numpy as np\n",
    "import matplotlib.pyplot as plt\n",
    "import pandas as pd\n",
    "from sklearn.model_selection import train_test_split\n",
    "from sklearn.preprocessing import StandardScaler\n",
    "from sklearn.neighbors import KNeighborsClassifier\n",
    "from sklearn.metrics import classification_report, confusion_matrix\n",
    "\n",
    "low_memory = False\n",
    "\n",
    "columns = ['feat_1','feat_2','feat_3',\n",
    "           'feat_4','feat_5','feat_6','feat_7',\n",
    "           'feat_8','feat_9','feat_10','feat_11',\n",
    "           'feat_12','feat_13','feat_14','feat_15',\n",
    "           'feat_16','feat_17','feat_18','feat_19',\n",
    "           'feat_20','feat_21','feat_22','feat_23',\n",
    "           'feat_24','feat_25','feat_26','feat_27',\n",
    "           'feat_28','feat_29','feat_30','feat_31',\n",
    "           'feat_32','feat_33','feat_34','feat_35',\n",
    "           'feat_36','feat_37','feat_38','feat_39',\n",
    "           'feat_40','feat_41','feat_42','feat_43',\n",
    "           'feat_44','feat_45','feat_46','feat_47',\n",
    "           'feat_48','feat_49','feat_50','feat_51',\n",
    "           'feat_52','feat_53','feat_54','feat_55',\n",
    "           'feat_56','feat_57','feat_58','feat_59',\n",
    "           'feat_60','feat_61','feat_62','feat_63',\n",
    "           'feat_64','feat_65','feat_66','feat_67',\n",
    "           'feat_68','feat_69','feat_70','feat_71',\n",
    "           'feat_72','feat_73','feat_74','feat_75',\n",
    "           'feat_76','feat_77','feat_78','feat_79',\n",
    "           'feat_80','feat_81','feat_82','feat_83',\n",
    "           'feat_84','feat_85','feat_86','feat_87',\n",
    "           'feat_88','feat_89','feat_90','feat_91',\n",
    "           'feat_92','feat_93','target']\n",
    "\n",
    "\n",
    "dataset = pd.read_csv('train.csv',names=columns)\n",
    "\n",
    "X = dataset.iloc[:, :-1].values\n",
    "y = dataset.iloc[:, 4].values\n",
    "\n",
    "X_train, X_test, y_train, y_test = train_test_split(X, y, test_size=0.20)\n",
    "\n",
    "print(X)\n",
    "#scaler = StandardScaler()\n",
    "#scaler.fit(X_train)\n",
    "\n",
    "#X_train = scaler.transform(X_train)\n",
    "#X_test = scaler.transform(X_test)\n",
    "\n",
    "#classifier = KNeighborsClassifier(n_neighbors=5)\n",
    "#classifier.fit(X_train, y_train)\n",
    "\n",
    "#y_pred = classifier.predict(X_test)\n",
    "\n",
    "#print(confusion_matrix(y_test, y_pred))\n",
    "#print(classification_report(y_test, y_pred))\n",
    "\n",
    "#print(X)\n",
    "print(y)\n",
    "\n",
    "\n"
   ]
  },
  {
   "cell_type": "code",
   "execution_count": null,
   "metadata": {},
   "outputs": [],
   "source": []
  }
 ],
 "metadata": {
  "kernelspec": {
   "display_name": "Python 3",
   "language": "python",
   "name": "python3"
  },
  "language_info": {
   "codemirror_mode": {
    "name": "ipython",
    "version": 3
   },
   "file_extension": ".py",
   "mimetype": "text/x-python",
   "name": "python",
   "nbconvert_exporter": "python",
   "pygments_lexer": "ipython3",
   "version": "3.7.3"
  }
 },
 "nbformat": 4,
 "nbformat_minor": 2
}
