{
 "cells": [
  {
   "cell_type": "code",
   "execution_count": null,
   "metadata": {},
   "outputs": [],
   "source": [
    "#Question 16\n",
    "import pandas as pd\n",
    "import csv\n",
    "train = csv.reader(open(\"train.csv\"))\n",
    "test = csv.reader(open(\"test.csv\"))\n",
    "file = open(\"combined.csv\", \"w\")\n",
    "combined = csv.writer(file)\n",
    "\n",
    "for spec in train:\n",
    "    combined.writerow(spec)\n",
    "for spec in test:\n",
    "    combined.writerow(spec) \n",
    "\n",
    "for value in combined:\n",
    "    value['Sex'] = value['Sex'].map( {'male': 0, 'female': 1} ).astype(int)\n",
    "\n"
   ]
  }
 ],
 "metadata": {
  "kernelspec": {
   "display_name": "Python 3",
   "language": "python",
   "name": "python3"
  },
  "language_info": {
   "codemirror_mode": {
    "name": "ipython",
    "version": 3
   },
   "file_extension": ".py",
   "mimetype": "text/x-python",
   "name": "python",
   "nbconvert_exporter": "python",
   "pygments_lexer": "ipython3",
   "version": "3.7.3"
  }
 },
 "nbformat": 4,
 "nbformat_minor": 2
}
