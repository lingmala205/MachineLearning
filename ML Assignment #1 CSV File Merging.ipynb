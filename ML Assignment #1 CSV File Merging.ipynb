{
 "cells": [
  {
   "cell_type": "code",
   "execution_count": 10,
   "metadata": {},
   "outputs": [],
   "source": [
    "import pandas as pd\n",
    "import csv\n",
    "train = csv.reader(open(\"train.csv\"))\n",
    "test = csv.reader(open(\"test.csv\"))\n",
    "file = open(\"combined.csv\", \"w\")\n",
    "combine = csv.writer(file)\n",
    "\n",
    "for spec in train:\n",
    "    combine.writerow(spec)\n",
    "for spec in test:\n",
    "    combine.writerow(spec) "
   ]
  }
 ],
 "metadata": {
  "kernelspec": {
   "display_name": "Python 3",
   "language": "python",
   "name": "python3"
  },
  "language_info": {
   "codemirror_mode": {
    "name": "ipython",
    "version": 3
   },
   "file_extension": ".py",
   "mimetype": "text/x-python",
   "name": "python",
   "nbconvert_exporter": "python",
   "pygments_lexer": "ipython3",
   "version": "3.7.3"
  }
 },
 "nbformat": 4,
 "nbformat_minor": 2
}
