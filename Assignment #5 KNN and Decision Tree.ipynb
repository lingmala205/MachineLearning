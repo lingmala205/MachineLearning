{
 "cells": [
  {
   "cell_type": "code",
   "execution_count": 37,
   "metadata": {},
   "outputs": [
    {
     "name": "stdout",
     "output_type": "stream",
     "text": [
      "Average of total:  0.9600000000000002\n",
      " \n",
      "[0.96666667 1.         0.93333333 0.96666667 1.        ]\n",
      " \n",
      "Plot: \n"
     ]
    },
    {
     "data": {
      "image/png": "[encoded data removed]",
      "text/plain": [
       "<Figure size 432x288 with 1 Axes>"
      ]
     },
     "metadata": {
      "needs_background": "light"
     },
     "output_type": "display_data"
    },
    {
     "name": "stdout",
     "output_type": "stream",
     "text": [
      " \n",
      " \n",
      " \n",
      " \n",
      "[0.96, 0.9466666666666665, 0.9666666666666668, 0.9733333333333334, 0.9733333333333334]\n",
      " \n",
      "Plot: \n"
     ]
    },
    {
     "data": {
      "image/png": "[encoded data removed]",
      "text/plain": [
       "<Figure size 432x288 with 1 Axes>"
      ]
     },
     "metadata": {
      "needs_background": "light"
     },
     "output_type": "display_data"
    }
   ],
   "source": [
    "from sklearn.datasets import load_iris\n",
    "from sklearn.model_selection import cross_val_score\n",
    "from sklearn.tree import DecisionTreeClassifier\n",
    "from sklearn.neighbors import KNeighborsClassifier\n",
    "import numpy as np\n",
    "import matplotlib.pyplot as plt\n",
    "\n",
    "\n",
    "clf = DecisionTreeClassifier(random_state = 0)\n",
    "iris = load_iris()\n",
    "total = cross_val_score(clf, iris.data, iris.target, cv = 5)\n",
    "\n",
    "print(\"Average of total: \", sum(total) / 5)\n",
    "\n",
    "\n",
    "arithmeticMean = []\n",
    "for count in range(1, 6):\n",
    "    nextOne = KNeighborsClassifier(n_neighbors = count)\n",
    "    nextOne.fit(iris.data, iris.target)\n",
    "    total = cross_val_score(nextOne, iris.data, iris.target, cv = 5)\n",
    "    \n",
    "    arithmeticMean.append(sum(total) / 5)\n",
    "\n",
    "print(\" \")\n",
    "\n",
    "print (total)\n",
    "\n",
    "folders = ('1', '2', '3', '4', '5')\n",
    "y_pos = np.arange(len(folders))\n",
    "plt.bar(y_pos, total)\n",
    "plt.xlabel(\"Decision Tree Cross Validation Folders\")\n",
    "plt.ylabel(\"Results\")\n",
    "\n",
    "plt.xticks(y_pos, folders)\n",
    "\n",
    "print(\" \")\n",
    "\n",
    "print(\"Plot: \")\n",
    "plt.show()\n",
    "\n",
    "\n",
    "\n",
    "print(\" \")\n",
    "print(\" \")\n",
    "print(\" \")\n",
    "print(\" \")\n",
    "\n",
    "print(arithmeticMean)\n",
    "\n",
    "\n",
    "print(\" \")\n",
    "\n",
    "folders = ('1', '2', '3', '4', '5')\n",
    "y_pos = np.arange(len(folders))\n",
    "plt.bar(y_pos, arithmeticMean)\n",
    "plt.xlabel(\"KNN Cross Validation Folders\")\n",
    "plt.ylabel(\"Results\")\n",
    "\n",
    "plt.xticks(y_pos, folders)\n",
    "\n",
    "\n",
    "print(\"Plot: \")\n",
    "\n",
    "plt.show()\n"
   ]
  },
  {
   "cell_type": "code",
   "execution_count": null,
   "metadata": {},
   "outputs": [],
   "source": []
  }
 ],
 "metadata": {
  "kernelspec": {
   "display_name": "Python 3",
   "language": "python",
   "name": "python3"
  },
  "language_info": {
   "codemirror_mode": {
    "name": "ipython",
    "version": 3
   },
   "file_extension": ".py",
   "mimetype": "text/x-python",
   "name": "python",
   "nbconvert_exporter": "python",
   "pygments_lexer": "ipython3",
   "version": "3.7.3"
  }
 },
 "nbformat": 4,
 "nbformat_minor": 2
}
