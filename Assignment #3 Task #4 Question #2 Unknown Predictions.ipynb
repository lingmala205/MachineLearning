{
 "cells": [
  {
   "cell_type": "code",
   "execution_count": 1,
   "metadata": {},
   "outputs": [
    {
     "name": "stdout",
     "output_type": "stream",
     "text": [
      "['No']\n"
     ]
    },
    {
     "data": {
      "text/plain": [
       "[Text(248.0, 343.2, 'X[0] <= 17.5\\nentropy = 0.459\\nsamples = 14\\nvalue = [5, 9]'),\n",
       " Text(165.33333333333334, 290.4, 'entropy = 0.0\\nsamples = 2\\nvalue = [2, 0]'),\n",
       " Text(330.6666666666667, 290.4, 'X[0] <= 94.5\\nentropy = 0.375\\nsamples = 12\\nvalue = [3, 9]'),\n",
       " Text(248.0, 237.59999999999997, 'X[0] <= 59.5\\nentropy = 0.298\\nsamples = 11\\nvalue = [2, 9]'),\n",
       " Text(165.33333333333334, 184.79999999999998, 'X[0] <= 38.5\\nentropy = 0.444\\nsamples = 6\\nvalue = [2, 4]'),\n",
       " Text(82.66666666666667, 131.99999999999997, 'entropy = 0.0\\nsamples = 3\\nvalue = [0, 3]'),\n",
       " Text(248.0, 131.99999999999997, 'X[3] <= 0.5\\nentropy = 0.444\\nsamples = 3\\nvalue = [2, 1]'),\n",
       " Text(165.33333333333334, 79.19999999999999, 'X[1] <= 1.5\\nentropy = 0.5\\nsamples = 2\\nvalue = [1, 1]'),\n",
       " Text(82.66666666666667, 26.399999999999977, 'entropy = 0.0\\nsamples = 1\\nvalue = [0, 1]'),\n",
       " Text(248.0, 26.399999999999977, 'entropy = 0.0\\nsamples = 1\\nvalue = [1, 0]'),\n",
       " Text(330.6666666666667, 79.19999999999999, 'entropy = 0.0\\nsamples = 1\\nvalue = [1, 0]'),\n",
       " Text(330.6666666666667, 184.79999999999998, 'entropy = 0.0\\nsamples = 5\\nvalue = [0, 5]'),\n",
       " Text(413.33333333333337, 237.59999999999997, 'entropy = 0.0\\nsamples = 1\\nvalue = [1, 0]')]"
      ]
     },
     "execution_count": 1,
     "metadata": {},
     "output_type": "execute_result"
    }
   ],
   "source": [
    "from sklearn import tree                                                        \n",
    "\n",
    "\n",
    "decide = tree.DecisionTreeClassifier()\n",
    "\n",
    "#Dates start at 7, increase by 7 each time.\n",
    "#Outlook:     Sunny  = 0, Overcast = 1, Rainy = 2\n",
    "#Temperature: Hot    = 0, Mild     = 1, Cool  = 2\n",
    "#Humidity:    Normal = 0, High     = 1\n",
    "#Windy:      \"True\"  = 0,\"False\"   = 1\n",
    "\n",
    "\n",
    "\n",
    "#[date, outlook, temperature, humidity, windy]\n",
    "X = [ [7, 0,0,1,1],                       #1                                                   \n",
    "      [14,0,0,1,0],                       #2                                                 \n",
    "      [21,1,0,1,1],                       #3                                                 \n",
    "      [28,2,1,1,1],                       #4   \n",
    "      [35,2,2,0,1],                       #5\n",
    "      [42,2,2,0,0],                       #6\n",
    "      [49,1,2,0,0],                       #7\n",
    "      [56,0,1,1,1],                       #8\n",
    "      [63,0,2,0,1],                       #9\n",
    "      [70,2,1,0,1],                       #10\n",
    "      [77,0,1,0,0],                       #11\n",
    "      [84,1,1,1,0],                       #12\n",
    "      [91,1,0,0,1],                       #13\n",
    "      [98,2,0,1,0]]                       #14                                              \n",
    "\n",
    "#Label:Play?\n",
    "Y = ['No', 'No', 'Yes', 'Yes', 'Yes', 'No', 'Yes', 'No', 'Yes', 'Yes', 'Yes', 'Yes', 'Yes', 'No']\n",
    "\n",
    "decide = decide.fit(X, Y)\n",
    "result15 = decide.predict([[105,2,0,1,1]])   #15\n",
    "\n",
    "\n",
    "\n",
    "print(result15)\n",
    "\n",
    "\n",
    "#Decision tree information\n",
    "tree.plot_tree(decide)\n"
   ]
  },
  {
   "cell_type": "code",
   "execution_count": null,
   "metadata": {},
   "outputs": [],
   "source": []
  }
 ],
 "metadata": {
  "kernelspec": {
   "display_name": "Python 3",
   "language": "python",
   "name": "python3"
  },
  "language_info": {
   "codemirror_mode": {
    "name": "ipython",
    "version": 3
   },
   "file_extension": ".py",
   "mimetype": "text/x-python",
   "name": "python",
   "nbconvert_exporter": "python",
   "pygments_lexer": "ipython3",
   "version": "3.7.3"
  }
 },
 "nbformat": 4,
 "nbformat_minor": 2
}
