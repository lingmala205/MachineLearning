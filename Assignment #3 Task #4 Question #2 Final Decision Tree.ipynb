{
 "cells": [
  {
   "cell_type": "code",
   "execution_count": 1,
   "metadata": {
    "scrolled": true
   },
   "outputs": [
    {
     "data": {
      "text/plain": [
       "[Text(248.0, 323.4, 'X[3] <= 0.5\\nentropy = 0.48\\nsamples = 15\\nvalue = [6, 9]'),\n",
       " Text(148.8, 230.99999999999997, 'X[0] <= 45.5\\nentropy = 0.245\\nsamples = 7\\nvalue = [1, 6]'),\n",
       " Text(99.2, 138.6, 'X[4] <= 0.5\\nentropy = 0.5\\nsamples = 2\\nvalue = [1, 1]'),\n",
       " Text(49.6, 46.19999999999999, 'entropy = 0.0\\nsamples = 1\\nvalue = [1, 0]'),\n",
       " Text(148.8, 46.19999999999999, 'entropy = 0.0\\nsamples = 1\\nvalue = [0, 1]'),\n",
       " Text(198.4, 138.6, 'entropy = 0.0\\nsamples = 5\\nvalue = [0, 5]'),\n",
       " Text(347.2, 230.99999999999997, 'X[1] <= 0.5\\nentropy = 0.469\\nsamples = 8\\nvalue = [5, 3]'),\n",
       " Text(297.6, 138.6, 'entropy = 0.0\\nsamples = 3\\nvalue = [3, 0]'),\n",
       " Text(396.8, 138.6, 'X[0] <= 91.0\\nentropy = 0.48\\nsamples = 5\\nvalue = [2, 3]'),\n",
       " Text(347.2, 46.19999999999999, 'entropy = 0.0\\nsamples = 3\\nvalue = [0, 3]'),\n",
       " Text(446.40000000000003, 46.19999999999999, 'entropy = 0.0\\nsamples = 2\\nvalue = [2, 0]')]"
      ]
     },
     "execution_count": 1,
     "metadata": {},
     "output_type": "execute_result"
    }
   ],
   "source": [
    "from sklearn import tree                                                        \n",
    "\n",
    "\n",
    "decide = tree.DecisionTreeClassifier()\n",
    "\n",
    "#Dates start at 7, increase by 7 each time.\n",
    "#Outlook:     Sunny  = 0, Overcast = 1, Rainy = 2\n",
    "#Temperature: Hot    = 0, Mild     = 1, Cool  = 2\n",
    "#Humidity:    Normal = 0, High     = 1\n",
    "#Windy:      \"True\"  = 0,\"False\"   = 1\n",
    "\n",
    "\n",
    "\n",
    "#[date, outlook, temperature, humidity, windy]\n",
    "X = [ [7, 0,0,1,1],                       #1                                                   \n",
    "      [14,0,0,1,0],                       #2                                                 \n",
    "      [21,1,0,1,1],                       #3                                                 \n",
    "      [28,2,1,1,1],                       #4   \n",
    "      [35,2,2,0,1],                       #5\n",
    "      [42,2,2,0,0],                       #6\n",
    "      [49,1,2,0,0],                       #7\n",
    "      [56,0,1,1,1],                       #8\n",
    "      [63,0,2,0,1],                       #9\n",
    "      [70,2,1,0,1],                       #10\n",
    "      [77,0,1,0,0],                       #11\n",
    "      [84,1,1,1,0],                       #12\n",
    "      [91,1,0,0,1],                       #13\n",
    "      [98,2,0,1,0],                       #14                                              \n",
    "      [105,2,0,1,1]]                      #15\n",
    "\n",
    "#Label:Play?\n",
    "Y = ['No', 'No', 'Yes', 'Yes', 'Yes', 'No', 'Yes', 'No', 'Yes', 'Yes', 'Yes', 'Yes', 'Yes', 'No', 'No']\n",
    "\n",
    "decide = decide.fit(X, Y)\n",
    "\n",
    "\n",
    "#Decision tree information\n",
    "tree.plot_tree(decide)\n"
   ]
  },
  {
   "cell_type": "code",
   "execution_count": null,
   "metadata": {},
   "outputs": [],
   "source": []
  }
 ],
 "metadata": {
  "kernelspec": {
   "display_name": "Python 3",
   "language": "python",
   "name": "python3"
  },
  "language_info": {
   "codemirror_mode": {
    "name": "ipython",
    "version": 3
   },
   "file_extension": ".py",
   "mimetype": "text/x-python",
   "name": "python",
   "nbconvert_exporter": "python",
   "pygments_lexer": "ipython3",
   "version": "3.7.3"
  }
 },
 "nbformat": 4,
 "nbformat_minor": 2
}
